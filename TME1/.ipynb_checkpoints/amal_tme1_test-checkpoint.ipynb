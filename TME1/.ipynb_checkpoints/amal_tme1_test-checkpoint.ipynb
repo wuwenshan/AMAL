{
 "cells": [
  {
   "cell_type": "markdown",
   "metadata": {},
   "source": [
    " # <center><font color='red'> TME 1 - Régression linéaire et descente de gradient </font></center>"
   ]
  },
  {
   "cell_type": "code",
   "execution_count": 2,
   "metadata": {},
   "outputs": [],
   "source": [
    "import torch\n",
    "from torch.autograd import gradcheck"
   ]
  },
  {
   "cell_type": "code",
   "execution_count": 3,
   "metadata": {},
   "outputs": [],
   "source": [
    "def forward(w, x):\n",
    "    return torch.mm( x, torch.transpose(w, 0, 1) )\n",
    "\n",
    "def MSEcost(yhat, y):\n",
    "    return torch.sum( torch.pow( y - yhat, 2 ) )\n",
    "\n",
    "def backward(w, x, outputs):\n",
    "    return torch.mm( outputs, w ), torch.mm( torch.transpose(outputs, 0, 1), x )\n",
    "\n",
    "def sgd(w, grads, eps):\n",
    "    w -= eps * grads[0]"
   ]
  },
  {
   "cell_type": "code",
   "execution_count": null,
   "metadata": {},
   "outputs": [],
   "source": [
    "x = torch.randn(10,5,requires_grad=True,dtype=torch.float64)\n",
    "w = torch.randn(1,5,requires_grad=True,dtype=torch.float64)\n",
    "\n",
    "outputs = forward(w, x)\n"
   ]
  }
 ],
 "metadata": {
  "kernelspec": {
   "display_name": "Python 3",
   "language": "python",
   "name": "python3"
  },
  "language_info": {
   "codemirror_mode": {
    "name": "ipython",
    "version": 3
   },
   "file_extension": ".py",
   "mimetype": "text/x-python",
   "name": "python",
   "nbconvert_exporter": "python",
   "pygments_lexer": "ipython3",
   "version": "3.6.5"
  }
 },
 "nbformat": 4,
 "nbformat_minor": 2
}
